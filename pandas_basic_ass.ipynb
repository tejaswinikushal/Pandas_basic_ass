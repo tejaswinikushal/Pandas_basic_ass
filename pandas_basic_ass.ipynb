{
 "cells": [
  {
   "cell_type": "markdown",
   "id": "dbb1b0a9",
   "metadata": {},
   "source": [
    "#### Q1. Create a Pandas Series that contains the following data: 4, 8, 15, 16, 23, and 42. Then, print the series"
   ]
  },
  {
   "cell_type": "code",
   "execution_count": 1,
   "id": "ec2bab46",
   "metadata": {},
   "outputs": [],
   "source": [
    "import pandas as pd"
   ]
  },
  {
   "cell_type": "code",
   "execution_count": 2,
   "id": "00d7972c",
   "metadata": {},
   "outputs": [
    {
     "name": "stdout",
     "output_type": "stream",
     "text": [
      "0     4\n",
      "1     8\n",
      "2    15\n",
      "3    16\n",
      "4    23\n",
      "5    42\n",
      "dtype: int64\n"
     ]
    }
   ],
   "source": [
    "data=[4, 8, 15, 16, 23, 42]\n",
    "series=pd.Series(data)\n",
    "print(series)"
   ]
  },
  {
   "cell_type": "markdown",
   "id": "3a353af1",
   "metadata": {},
   "source": [
    "#### Q2. Create a variable of list type containing 10 elements in it, and apply pandas.Series function on the variable print it."
   ]
  },
  {
   "cell_type": "code",
   "execution_count": 3,
   "id": "c63d9541",
   "metadata": {},
   "outputs": [],
   "source": [
    "import pandas"
   ]
  },
  {
   "cell_type": "code",
   "execution_count": 4,
   "id": "2481e5f1",
   "metadata": {},
   "outputs": [
    {
     "name": "stdout",
     "output_type": "stream",
     "text": [
      "0    1\n",
      "1    5\n",
      "2    7\n",
      "3    3\n",
      "4    9\n",
      "5    8\n",
      "6    4\n",
      "7    2\n",
      "8    6\n",
      "9    0\n",
      "dtype: int64\n"
     ]
    }
   ],
   "source": [
    "lis=[1,5,7,3,9,8,4,2,6,0]\n",
    "series1=pd.Series(lis)\n",
    "print(series1)"
   ]
  },
  {
   "cell_type": "markdown",
   "id": "a75505fd",
   "metadata": {},
   "source": [
    "#### Q3. Create a Pandas DataFrame that contains the following data:\n",
    "Name:\n",
    "Alice\n",
    "Bob\n",
    "Claire\n",
    "\n",
    "Age:\n",
    "25\n",
    "30\n",
    "27\n",
    "\n",
    "Gender:\n",
    "Female\n",
    "Male\n",
    "Female\n",
    "\n",
    "#### Then, print the DataFrame."
   ]
  },
  {
   "cell_type": "code",
   "execution_count": 5,
   "id": "d465d6fe",
   "metadata": {},
   "outputs": [
    {
     "name": "stdout",
     "output_type": "stream",
     "text": [
      "     Name  Age  Gender\n",
      "0   Alice   25  Female\n",
      "1     Bob   30    Male\n",
      "2  Claire   37  Female\n"
     ]
    }
   ],
   "source": [
    "import pandas as pd\n",
    "dict={'Name':['Alice','Bob','Claire'],'Age':[25,30,37],'Gender':['Female','Male','Female']}\n",
    "df=pd.DataFrame(dict)\n",
    "print(df)"
   ]
  },
  {
   "cell_type": "markdown",
   "id": "3adf60b8",
   "metadata": {},
   "source": [
    "#### Q4. What is ‘DataFrame’ in pandas and how is it different from pandas.series? Explain with an example."
   ]
  },
  {
   "cell_type": "markdown",
   "id": "99bdbb05",
   "metadata": {},
   "source": [
    "In pandas, a DataFrame is a two-dimensional tabular data structure that consists of rows and columns. It can be thought of as a collection of Pandas Series, where each Series represents a column. DataFrames provide a convenient way to manipulate, analyze, and visualize structured data.\n",
    "\n",
    "In pandas, a DataFrame is a two-dimensional tabular data structure that consists of rows and columns. It can be thought of as a collection of Pandas Series, where each Series represents a column. DataFrames provide a convenient way to manipulate, analyze, and visualize structured data.\n",
    "\n",
    "A Pandas Series,is a one-dimensional labeled array that can hold data of any type (e.g., integers, floats, strings, etc.). It represents a single column of data with an associated index. Series are the building blocks of a DataFrame."
   ]
  },
  {
   "cell_type": "code",
   "execution_count": 6,
   "id": "68f58233",
   "metadata": {},
   "outputs": [
    {
     "name": "stdout",
     "output_type": "stream",
     "text": [
      "    Name  Age      City\n",
      "0   John   25  New York\n",
      "1   teja   28    London\n",
      "2  kushi   22     Paris\n",
      "3   manu   30    Sydney\n",
      "0    25\n",
      "1    28\n",
      "2    22\n",
      "3    30\n",
      "Name: Age, dtype: int64\n"
     ]
    }
   ],
   "source": [
    "import pandas as pd\n",
    "\n",
    "data = {\n",
    "    'Name': ['John', 'teja', 'kushi', 'manu'],\n",
    "    'Age': [25, 28, 22, 30],\n",
    "    'City': ['New York', 'London', 'Paris', 'Sydney']\n",
    "}\n",
    "df = pd.DataFrame(data)\n",
    "age_series = df['Age']\n",
    "print(df)\n",
    "print(age_series)"
   ]
  },
  {
   "cell_type": "markdown",
   "id": "6f062814",
   "metadata": {},
   "source": [
    "#### Q5. What are some common functions you can use to manipulate data in a Pandas DataFrame? Can you give an example of when you might use one of these functions?"
   ]
  },
  {
   "cell_type": "markdown",
   "id": "9d69940a",
   "metadata": {},
   "source": [
    "head() and tail(): These functions allow you to view the first five rows (head()) or the last five rows (tail()) of a DataFrame. \n",
    "\n",
    "We can also pass argument like head(4)....\n",
    "Then it will print first 4 records"
   ]
  },
  {
   "cell_type": "code",
   "execution_count": 7,
   "id": "26cbe848",
   "metadata": {},
   "outputs": [
    {
     "data": {
      "text/html": [
       "<div>\n",
       "<style scoped>\n",
       "    .dataframe tbody tr th:only-of-type {\n",
       "        vertical-align: middle;\n",
       "    }\n",
       "\n",
       "    .dataframe tbody tr th {\n",
       "        vertical-align: top;\n",
       "    }\n",
       "\n",
       "    .dataframe thead th {\n",
       "        text-align: right;\n",
       "    }\n",
       "</style>\n",
       "<table border=\"1\" class=\"dataframe\">\n",
       "  <thead>\n",
       "    <tr style=\"text-align: right;\">\n",
       "      <th></th>\n",
       "      <th>Name</th>\n",
       "      <th>Age</th>\n",
       "      <th>City</th>\n",
       "    </tr>\n",
       "  </thead>\n",
       "  <tbody>\n",
       "    <tr>\n",
       "      <th>0</th>\n",
       "      <td>John</td>\n",
       "      <td>25</td>\n",
       "      <td>New York</td>\n",
       "    </tr>\n",
       "    <tr>\n",
       "      <th>1</th>\n",
       "      <td>teja</td>\n",
       "      <td>28</td>\n",
       "      <td>London</td>\n",
       "    </tr>\n",
       "    <tr>\n",
       "      <th>2</th>\n",
       "      <td>kushi</td>\n",
       "      <td>22</td>\n",
       "      <td>Paris</td>\n",
       "    </tr>\n",
       "  </tbody>\n",
       "</table>\n",
       "</div>"
      ],
      "text/plain": [
       "    Name  Age      City\n",
       "0   John   25  New York\n",
       "1   teja   28    London\n",
       "2  kushi   22     Paris"
      ]
     },
     "execution_count": 7,
     "metadata": {},
     "output_type": "execute_result"
    }
   ],
   "source": [
    "df.head(3)"
   ]
  },
  {
   "cell_type": "code",
   "execution_count": 8,
   "id": "70e46d20",
   "metadata": {},
   "outputs": [
    {
     "data": {
      "text/html": [
       "<div>\n",
       "<style scoped>\n",
       "    .dataframe tbody tr th:only-of-type {\n",
       "        vertical-align: middle;\n",
       "    }\n",
       "\n",
       "    .dataframe tbody tr th {\n",
       "        vertical-align: top;\n",
       "    }\n",
       "\n",
       "    .dataframe thead th {\n",
       "        text-align: right;\n",
       "    }\n",
       "</style>\n",
       "<table border=\"1\" class=\"dataframe\">\n",
       "  <thead>\n",
       "    <tr style=\"text-align: right;\">\n",
       "      <th></th>\n",
       "      <th>Name</th>\n",
       "      <th>Age</th>\n",
       "      <th>City</th>\n",
       "    </tr>\n",
       "  </thead>\n",
       "  <tbody>\n",
       "    <tr>\n",
       "      <th>0</th>\n",
       "      <td>John</td>\n",
       "      <td>25</td>\n",
       "      <td>New York</td>\n",
       "    </tr>\n",
       "    <tr>\n",
       "      <th>1</th>\n",
       "      <td>teja</td>\n",
       "      <td>28</td>\n",
       "      <td>London</td>\n",
       "    </tr>\n",
       "    <tr>\n",
       "      <th>2</th>\n",
       "      <td>kushi</td>\n",
       "      <td>22</td>\n",
       "      <td>Paris</td>\n",
       "    </tr>\n",
       "    <tr>\n",
       "      <th>3</th>\n",
       "      <td>manu</td>\n",
       "      <td>30</td>\n",
       "      <td>Sydney</td>\n",
       "    </tr>\n",
       "  </tbody>\n",
       "</table>\n",
       "</div>"
      ],
      "text/plain": [
       "    Name  Age      City\n",
       "0   John   25  New York\n",
       "1   teja   28    London\n",
       "2  kushi   22     Paris\n",
       "3   manu   30    Sydney"
      ]
     },
     "execution_count": 8,
     "metadata": {},
     "output_type": "execute_result"
    }
   ],
   "source": [
    "df.head()"
   ]
  },
  {
   "cell_type": "code",
   "execution_count": 9,
   "id": "a955b76f",
   "metadata": {},
   "outputs": [
    {
     "data": {
      "text/html": [
       "<div>\n",
       "<style scoped>\n",
       "    .dataframe tbody tr th:only-of-type {\n",
       "        vertical-align: middle;\n",
       "    }\n",
       "\n",
       "    .dataframe tbody tr th {\n",
       "        vertical-align: top;\n",
       "    }\n",
       "\n",
       "    .dataframe thead th {\n",
       "        text-align: right;\n",
       "    }\n",
       "</style>\n",
       "<table border=\"1\" class=\"dataframe\">\n",
       "  <thead>\n",
       "    <tr style=\"text-align: right;\">\n",
       "      <th></th>\n",
       "      <th>Name</th>\n",
       "      <th>Age</th>\n",
       "      <th>City</th>\n",
       "    </tr>\n",
       "  </thead>\n",
       "  <tbody>\n",
       "    <tr>\n",
       "      <th>2</th>\n",
       "      <td>kushi</td>\n",
       "      <td>22</td>\n",
       "      <td>Paris</td>\n",
       "    </tr>\n",
       "    <tr>\n",
       "      <th>3</th>\n",
       "      <td>manu</td>\n",
       "      <td>30</td>\n",
       "      <td>Sydney</td>\n",
       "    </tr>\n",
       "  </tbody>\n",
       "</table>\n",
       "</div>"
      ],
      "text/plain": [
       "    Name  Age    City\n",
       "2  kushi   22   Paris\n",
       "3   manu   30  Sydney"
      ]
     },
     "execution_count": 9,
     "metadata": {},
     "output_type": "execute_result"
    }
   ],
   "source": [
    "df.tail(2)"
   ]
  },
  {
   "cell_type": "markdown",
   "id": "e3ea9c76",
   "metadata": {},
   "source": [
    "#### Q6. Which of the following is mutable in nature Series, DataFrame, Panel?"
   ]
  },
  {
   "cell_type": "markdown",
   "id": "04866996",
   "metadata": {},
   "source": [
    "Series and DataFrame are mutable in nature, while Panel is not.\n",
    "\n",
    "1.Series: \n",
    "A Pandas Series is mutable, meaning you can modify its elements after creation. You can change the values in a Series by assigning new values to specific indexes or using methods like .loc or .iloc to access and modify elements."
   ]
  },
  {
   "cell_type": "code",
   "execution_count": 10,
   "id": "93915136",
   "metadata": {},
   "outputs": [
    {
     "name": "stdout",
     "output_type": "stream",
     "text": [
      "0     1\n",
      "1     2\n",
      "2    10\n",
      "3     4\n",
      "4     5\n",
      "dtype: int64\n"
     ]
    }
   ],
   "source": [
    "import pandas as pd\n",
    "my_series = pd.Series([1, 2, 3, 4, 5])\n",
    "my_series[2] = 10\n",
    "print(my_series)"
   ]
  },
  {
   "cell_type": "markdown",
   "id": "58874719",
   "metadata": {},
   "source": [
    "DataFrame:  Pandas DataFrame is mutable. You can modify its elements by assigning new values to specific cells, columns, or rows. DataFrame provides various methods to modify data, such as .loc, .iloc, and DataFrame assignment."
   ]
  },
  {
   "cell_type": "code",
   "execution_count": 11,
   "id": "b61613e3",
   "metadata": {},
   "outputs": [
    {
     "name": "stdout",
     "output_type": "stream",
     "text": [
      "   A   B\n",
      "0  1   4\n",
      "1  2  10\n",
      "2  3   6\n"
     ]
    }
   ],
   "source": [
    "import pandas as pd\n",
    "data={'A': [1, 2, 3], 'B': [4, 5, 6]}\n",
    "df=pd.DataFrame(data)\n",
    "df.at[1, 'B'] = 10\n",
    "print(df)"
   ]
  },
  {
   "cell_type": "markdown",
   "id": "e56188c0",
   "metadata": {},
   "source": [
    "#### Q7. Create a DataFrame using multiple Series. Explain with an example."
   ]
  },
  {
   "cell_type": "code",
   "execution_count": 12,
   "id": "a994a387",
   "metadata": {},
   "outputs": [
    {
     "name": "stdout",
     "output_type": "stream",
     "text": [
      "     Name  Age  Gender\n",
      "0   Alice   25  Female\n",
      "1     Bob   30    Male\n",
      "2  Claire   27  Female\n"
     ]
    }
   ],
   "source": [
    "name=pd.Series(['Alice','Bob','Claire'])\n",
    "age=pd.Series([25,30,27])\n",
    "gender=pd.Series(['Female','Male','Female'])\n",
    "dict={'Name':name,'Age':age,'Gender':gender}\n",
    "df=pd.DataFrame(dict)\n",
    "print(df)\n"
   ]
  },
  {
   "cell_type": "code",
   "execution_count": null,
   "id": "7e75b924",
   "metadata": {},
   "outputs": [],
   "source": []
  }
 ],
 "metadata": {
  "kernelspec": {
   "display_name": "Python 3 (ipykernel)",
   "language": "python",
   "name": "python3"
  },
  "language_info": {
   "codemirror_mode": {
    "name": "ipython",
    "version": 3
   },
   "file_extension": ".py",
   "mimetype": "text/x-python",
   "name": "python",
   "nbconvert_exporter": "python",
   "pygments_lexer": "ipython3",
   "version": "3.11.2"
  }
 },
 "nbformat": 4,
 "nbformat_minor": 5
}
